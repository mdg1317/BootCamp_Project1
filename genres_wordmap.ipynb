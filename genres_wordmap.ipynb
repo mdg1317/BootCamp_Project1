{
 "cells": [
  {
   "cell_type": "code",
   "execution_count": 44,
   "metadata": {},
   "outputs": [],
   "source": [
    "# Imports\n",
    "import pandas as pd\n",
    "import string\n",
    "import re\n",
    "from getdata import netflix_df"
   ]
  },
  {
   "cell_type": "code",
   "execution_count": 45,
   "metadata": {},
   "outputs": [
    {
     "data": {
      "text/html": [
       "<div>\n",
       "<style scoped>\n",
       "    .dataframe tbody tr th:only-of-type {\n",
       "        vertical-align: middle;\n",
       "    }\n",
       "\n",
       "    .dataframe tbody tr th {\n",
       "        vertical-align: top;\n",
       "    }\n",
       "\n",
       "    .dataframe thead th {\n",
       "        text-align: right;\n",
       "    }\n",
       "</style>\n",
       "<table border=\"1\" class=\"dataframe\">\n",
       "  <thead>\n",
       "    <tr style=\"text-align: right;\">\n",
       "      <th></th>\n",
       "      <th>genres</th>\n",
       "    </tr>\n",
       "  </thead>\n",
       "  <tbody>\n",
       "    <tr>\n",
       "      <th>0</th>\n",
       "      <td>['documentation']</td>\n",
       "    </tr>\n",
       "    <tr>\n",
       "      <th>1</th>\n",
       "      <td>['drama', 'crime']</td>\n",
       "    </tr>\n",
       "    <tr>\n",
       "      <th>2</th>\n",
       "      <td>['drama', 'action', 'thriller', 'european']</td>\n",
       "    </tr>\n",
       "    <tr>\n",
       "      <th>3</th>\n",
       "      <td>['fantasy', 'action', 'comedy']</td>\n",
       "    </tr>\n",
       "    <tr>\n",
       "      <th>4</th>\n",
       "      <td>['war', 'action']</td>\n",
       "    </tr>\n",
       "    <tr>\n",
       "      <th>...</th>\n",
       "      <td>...</td>\n",
       "    </tr>\n",
       "    <tr>\n",
       "      <th>5845</th>\n",
       "      <td>['romance', 'drama']</td>\n",
       "    </tr>\n",
       "    <tr>\n",
       "      <th>5846</th>\n",
       "      <td>['drama']</td>\n",
       "    </tr>\n",
       "    <tr>\n",
       "      <th>5847</th>\n",
       "      <td>['comedy']</td>\n",
       "    </tr>\n",
       "    <tr>\n",
       "      <th>5848</th>\n",
       "      <td>[]</td>\n",
       "    </tr>\n",
       "    <tr>\n",
       "      <th>5849</th>\n",
       "      <td>['family', 'animation', 'comedy']</td>\n",
       "    </tr>\n",
       "  </tbody>\n",
       "</table>\n",
       "<p>5850 rows × 1 columns</p>\n",
       "</div>"
      ],
      "text/plain": [
       "                                           genres\n",
       "0                               ['documentation']\n",
       "1                              ['drama', 'crime']\n",
       "2     ['drama', 'action', 'thriller', 'european']\n",
       "3                 ['fantasy', 'action', 'comedy']\n",
       "4                               ['war', 'action']\n",
       "...                                           ...\n",
       "5845                         ['romance', 'drama']\n",
       "5846                                    ['drama']\n",
       "5847                                   ['comedy']\n",
       "5848                                           []\n",
       "5849            ['family', 'animation', 'comedy']\n",
       "\n",
       "[5850 rows x 1 columns]"
      ]
     },
     "execution_count": 45,
     "metadata": {},
     "output_type": "execute_result"
    }
   ],
   "source": [
    "genres_df = netflix_df[[\"genres\"]]\n",
    "genres_df"
   ]
  },
  {
   "cell_type": "code",
   "execution_count": 78,
   "metadata": {},
   "outputs": [
    {
     "data": {
      "text/plain": [
       "[{'word': 'documentation', 'count': 952},\n",
       " {'word': 'drama', 'count': 2968},\n",
       " {'word': 'crime', 'count': 936},\n",
       " {'word': 'action', 'count': 1157},\n",
       " {'word': 'thriller', 'count': 1228},\n",
       " {'word': 'european', 'count': 443},\n",
       " {'word': 'fantasy', 'count': 630},\n",
       " {'word': 'comedy', 'count': 2325},\n",
       " {'word': 'war', 'count': 163},\n",
       " {'word': 'romance', 'count': 971},\n",
       " {'word': 'western', 'count': 41},\n",
       " {'word': 'history', 'count': 254},\n",
       " {'word': 'music', 'count': 262},\n",
       " {'word': 'family', 'count': 682},\n",
       " {'word': 'horror', 'count': 378},\n",
       " {'word': 'scifi', 'count': 589},\n",
       " {'word': 'animation', 'count': 705},\n",
       " {'word': 'reality', 'count': 234},\n",
       " {'word': 'sport', 'count': 170},\n",
       " {'word': '', 'count': 59}]"
      ]
     },
     "execution_count": 78,
     "metadata": {},
     "output_type": "execute_result"
    }
   ],
   "source": [
    "genres = []\n",
    "\n",
    "for row in list(genres_df[\"genres\"]):\n",
    "    # re.sub() function taken from StackOverflow: https://stackoverflow.com/questions/34860982/replace-the-punctuation-with-whitespace\n",
    "    clean = re.sub(r\"[\\[\\]\\' ]+\\ *\", \"\", row)\n",
    "    clean2 = re.sub(r\",\", \" \", clean)\n",
    "    genre_list = list(clean2.split(\" \"))\n",
    "\n",
    "    for genre in genre_list:\n",
    "        if(not any(g[\"word\"] == genre for g in genres)):\n",
    "            #print(\"New word\")\n",
    "            genres.append({\"word\": genre, \"count\": 1})\n",
    "        else:\n",
    "            #print(\"Old word\")\n",
    "            genres[next((index for (index, g) in enumerate(genres) if g[\"word\"] == genre), None)][\"count\"] += 1\n",
    "genres"
   ]
  }
 ],
 "metadata": {
  "kernelspec": {
   "display_name": "Python 3",
   "language": "python",
   "name": "python3"
  },
  "language_info": {
   "codemirror_mode": {
    "name": "ipython",
    "version": 3
   },
   "file_extension": ".py",
   "mimetype": "text/x-python",
   "name": "python",
   "nbconvert_exporter": "python",
   "pygments_lexer": "ipython3",
   "version": "3.12.1"
  }
 },
 "nbformat": 4,
 "nbformat_minor": 2
}
